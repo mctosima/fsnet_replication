{
 "cells": [
  {
   "cell_type": "code",
   "execution_count": 3,
   "metadata": {},
   "outputs": [],
   "source": [
    "import torch\n",
    "import torch.nn as nn\n",
    "from torchinfo import summary\n",
    "from fsnet import *"
   ]
  },
  {
   "cell_type": "code",
   "execution_count": 4,
   "metadata": {},
   "outputs": [
    {
     "data": {
      "text/plain": [
       "===============================================================================================================================================================================\n",
       "Layer (type (var_name))                            Input Shape               Output Shape              Param #                   Kernel Shape              Mult-Adds\n",
       "===============================================================================================================================================================================\n",
       "FSnet (FSnet)                                      [1, 5]                    [1, 16]                   --                        --                        --\n",
       "├─FNet (fnet)                                      [1, 5]                    [1, 16]                   --                        --                        --\n",
       "│    └─Linear (fc1)                                [1, 5]                    [1, 32]                   192                       --                        192\n",
       "│    └─BatchNorm1d (batchnorm1)                    [1, 32]                   [1, 32]                   64                        --                        64\n",
       "│    └─ModuleList (fc_res_blocks)                  --                        --                        (recursive)               --                        --\n",
       "│    │    └─Sequential (0)                         [1, 32]                   [1, 32]                   2,112                     --                        2,112\n",
       "│    └─ReLU (relu_residual)                        [1, 32]                   [1, 32]                   --                        --                        --\n",
       "│    └─ModuleList (fc_res_blocks)                  --                        --                        (recursive)               --                        --\n",
       "│    │    └─Sequential (1)                         [1, 32]                   [1, 32]                   2,112                     --                        2,112\n",
       "│    └─ReLU (relu_residual)                        [1, 32]                   [1, 32]                   --                        --                        --\n",
       "│    └─ModuleList (fc_res_blocks)                  --                        --                        (recursive)               --                        --\n",
       "│    │    └─Sequential (2)                         [1, 32]                   [1, 32]                   2,112                     --                        2,112\n",
       "│    └─ReLU (relu_residual)                        [1, 32]                   [1, 32]                   --                        --                        --\n",
       "│    └─Sequential (fc5)                            [1, 32]                   [1, 16]                   --                        --                        --\n",
       "│    │    └─Linear (0)                             [1, 32]                   [1, 16]                   528                       --                        528\n",
       "│    │    └─BatchNorm1d (1)                        [1, 16]                   [1, 16]                   32                        --                        32\n",
       "│    └─Linear (fc6)                                [1, 32]                   [1, 1]                    33                        --                        33\n",
       "├─SNet (snet)                                      [1, 3, 1, 1800]           [1, 64]                   --                        --                        --\n",
       "│    └─Conv2d (conv1)                              [1, 3, 1, 1800]           [1, 64, 1, 600]           640                       [1, 3]                    384,000\n",
       "│    └─BatchNorm2d (batchnorm1)                    [1, 64, 1, 600]           [1, 64, 1, 600]           128                       --                        128\n",
       "│    └─ModuleList (res_blocks)                     --                        --                        (recursive)               --                        --\n",
       "│    │    └─Sequential (0)                         [1, 64, 1, 600]           [1, 64, 1, 600]           73,856                    --                        44,313,600\n",
       "│    └─ReLU (residual_relu)                        [1, 64, 1, 600]           [1, 64, 1, 600]           --                        --                        --\n",
       "│    └─ModuleList (res_blocks)                     --                        --                        (recursive)               --                        --\n",
       "│    │    └─Sequential (1)                         [1, 64, 1, 600]           [1, 64, 1, 600]           73,856                    --                        44,313,600\n",
       "│    └─ReLU (residual_relu)                        [1, 64, 1, 600]           [1, 64, 1, 600]           --                        --                        --\n",
       "│    └─ModuleList (res_blocks)                     --                        --                        (recursive)               --                        --\n",
       "│    │    └─Sequential (2)                         [1, 64, 1, 600]           [1, 64, 1, 600]           73,856                    --                        44,313,600\n",
       "│    └─ReLU (residual_relu)                        [1, 64, 1, 600]           [1, 64, 1, 600]           --                        --                        --\n",
       "│    └─ModuleList (res_blocks)                     --                        --                        (recursive)               --                        --\n",
       "│    │    └─Sequential (3)                         [1, 64, 1, 600]           [1, 64, 1, 600]           73,856                    --                        44,313,600\n",
       "│    └─ReLU (residual_relu)                        [1, 64, 1, 600]           [1, 64, 1, 600]           --                        --                        --\n",
       "│    └─ModuleList (res_blocks)                     --                        --                        (recursive)               --                        --\n",
       "│    │    └─Sequential (4)                         [1, 64, 1, 600]           [1, 64, 1, 600]           73,856                    --                        44,313,600\n",
       "│    └─ReLU (residual_relu)                        [1, 64, 1, 600]           [1, 64, 1, 600]           --                        --                        --\n",
       "│    └─ModuleList (res_blocks)                     --                        --                        (recursive)               --                        --\n",
       "│    │    └─Sequential (5)                         [1, 64, 1, 600]           [1, 64, 1, 600]           73,856                    --                        44,313,600\n",
       "│    └─ReLU (residual_relu)                        [1, 64, 1, 600]           [1, 64, 1, 600]           --                        --                        --\n",
       "│    └─AdaptiveAvgPool2d (adaptive_avg_pool)       [1, 64, 1, 600]           [1, 64, 1, 3]             --                        --                        --\n",
       "│    └─Linear (fc1)                                [1, 192]                  [1, 64]                   12,352                    --                        12,352\n",
       "│    └─BatchNorm1d (batchnorm8)                    [1, 64]                   [1, 64]                   128                       --                        128\n",
       "│    └─Linear (fc2)                                [1, 64]                   [1, 1]                    65                        --                        65\n",
       "├─Linear (fc1)                                     [1, 80]                   [1, 8]                    648                       --                        648\n",
       "├─Linear (fc2)                                     [1, 8]                    [1, 1]                    9                         --                        9\n",
       "===============================================================================================================================================================================\n",
       "Total params: 464,291\n",
       "Trainable params: 464,291\n",
       "Non-trainable params: 0\n",
       "Total mult-adds (M): 266.29\n",
       "===============================================================================================================================================================================\n",
       "Input size (MB): 0.02\n",
       "Forward/backward pass size (MB): 4.30\n",
       "Params size (MB): 1.86\n",
       "Estimated Total Size (MB): 6.18\n",
       "==============================================================================================================================================================================="
      ]
     },
     "execution_count": 4,
     "metadata": {},
     "output_type": "execute_result"
    }
   ],
   "source": [
    "model = FSnet(\n",
    "    f_input_size=7,\n",
    "    f_hidden_size=32,\n",
    "    f_output_size=16,\n",
    "    s_in_channels=3,\n",
    "    s_out_channels=64,\n",
    "    s_conv_kernel=1,\n",
    "    s_conv_stride=3,\n",
    "    s_conv_padding=0,\n",
    "    s_res_kernel=3,\n",
    "    s_res_stride=1,\n",
    "    s_res_padding=1,\n",
    "    s_num_res_blocks=6,\n",
    ")\n",
    "f_input = torch.randn(1, 7)\n",
    "s_input = torch.randn(1, 3, 1, 1800)\n",
    "summary(model, input_data=[f_input, s_input], col_names=[\"input_size\", \"output_size\", \"num_params\", \"kernel_size\", \"mult_adds\"], row_settings=[\"var_names\"])"
   ]
  }
 ],
 "metadata": {
  "kernelspec": {
   "display_name": "py38_physio",
   "language": "python",
   "name": "python3"
  },
  "language_info": {
   "codemirror_mode": {
    "name": "ipython",
    "version": 3
   },
   "file_extension": ".py",
   "mimetype": "text/x-python",
   "name": "python",
   "nbconvert_exporter": "python",
   "pygments_lexer": "ipython3",
   "version": "3.8.16"
  },
  "orig_nbformat": 4,
  "vscode": {
   "interpreter": {
    "hash": "17bb91e8bde0825797cd6511e4ea132c168efc440cdaac9807da14c26bf8a3e5"
   }
  }
 },
 "nbformat": 4,
 "nbformat_minor": 2
}
