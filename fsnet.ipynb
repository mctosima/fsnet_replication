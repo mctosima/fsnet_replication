{
 "cells": [
  {
   "cell_type": "code",
   "execution_count": 2,
   "metadata": {},
   "outputs": [],
   "source": [
    "import torch\n",
    "import torch.nn as nn"
   ]
  },
  {
   "cell_type": "code",
   "execution_count": 6,
   "metadata": {},
   "outputs": [
    {
     "name": "stdout",
     "output_type": "stream",
     "text": [
      "torch.Size([1, 64, 1, 600])\n"
     ]
    }
   ],
   "source": [
    "import torch\n",
    "import torch.nn as nn\n",
    "\n",
    "# Define a convolutional layer with 16 filters of size 3x3\n",
    "conv = nn.Conv2d(in_channels=3, out_channels=64, kernel_size=(1,3), stride=3, padding=0)\n",
    "\n",
    "# Define a batch normalization layer\n",
    "bn = nn.BatchNorm2d(64)\n",
    "\n",
    "# Define a ReLU activation function\n",
    "relu = nn.ReLU()\n",
    "\n",
    "# Apply the layers to an input tensor of shape (1, 3, 32, 32)\n",
    "x = torch.randn(1, 3, 1, 1800)\n",
    "y = relu(bn(conv(x)))\n",
    "print(y.shape)"
   ]
  }
 ],
 "metadata": {
  "kernelspec": {
   "display_name": "py38_pytorch",
   "language": "python",
   "name": "python3"
  },
  "language_info": {
   "codemirror_mode": {
    "name": "ipython",
    "version": 3
   },
   "file_extension": ".py",
   "mimetype": "text/x-python",
   "name": "python",
   "nbconvert_exporter": "python",
   "pygments_lexer": "ipython3",
   "version": "3.8.16"
  },
  "orig_nbformat": 4,
  "vscode": {
   "interpreter": {
    "hash": "a02eece1d72ae98fcdd7752f943a1a6bb8a29e1d7ccfb7e0d486490cb4608702"
   }
  }
 },
 "nbformat": 4,
 "nbformat_minor": 2
}
